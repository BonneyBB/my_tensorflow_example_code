{
 "cells": [
  {
   "cell_type": "code",
   "execution_count": 1,
   "metadata": {
    "collapsed": true
   },
   "outputs": [],
   "source": [
    "import tensorflow as tf"
   ]
  },
  {
   "cell_type": "markdown",
   "metadata": {},
   "source": [
    "tf.train.Coordinator: help multiple thread stop together and report exceptions to a program that waits for them to stop.\n",
    "\n",
    "tf.train.QueueRunner: create a number of threads cooperatiing to **enqueue** tensors in the **same** queue."
   ]
  },
  {
   "cell_type": "markdown",
   "metadata": {},
   "source": [
    "## Coordinator"
   ]
  },
  {
   "cell_type": "markdown",
   "metadata": {},
   "source": [
    "### Key method"
   ]
  },
  {
   "cell_type": "markdown",
   "metadata": {},
   "source": [
    "tf.train.Coordinator.should_stop\n",
    "\n",
    "return `True` if the threads should stop. This is called from threads, so the thread know if it should stop.\n",
    "\n",
    "tf.train.Coordinator.request_stop\n",
    "\n",
    "request that the threads should stop. when this is called, calls to `should_top` will return `True`.\n",
    "\n",
    "tf.train.Coordinator.join\n",
    "\n",
    "This call blocks until a set of threads have terminated.\n",
    "\n",
    "note: there is a message about **exc_info**, check it, I think this a oppotunity to study how to hanle exception in thread."
   ]
  },
  {
   "cell_type": "markdown",
   "metadata": {},
   "source": [
    "### Simple example"
   ]
  },
  {
   "cell_type": "code",
   "execution_count": 5,
   "metadata": {},
   "outputs": [
    {
     "name": "stdout",
     "output_type": "stream",
     "text": [
      "worker 1 running\n",
      "worker 0 running\n",
      "worker 2 running\n",
      "worker 0 running\n",
      "worker 0 requst stop\n",
      "worker 0 stopped\n",
      "worker 1 running\n",
      "worker 1 stopped\n",
      "worker 2 running\n",
      "worker 2 requst stop\n",
      "worker 2 stopped\n"
     ]
    }
   ],
   "source": [
    "import time\n",
    "import threading\n",
    "import random\n",
    "\n",
    "\n",
    "def worker(coord):\n",
    "    while not coord.should_stop():\n",
    "        time.sleep(10)\n",
    "        thread_id = threading.current_thread().name\n",
    "        print(\"worker %s running\" % (thread_id,))\n",
    "        rand_int = random.randint(0,10)\n",
    "        if rand_int > 5:\n",
    "            print(\"worker %s requst stop\" % (thread_id,))\n",
    "            coord.request_stop()\n",
    "    print(\"worker %s stopped\" % (thread_id,))\n",
    "        \n",
    "coord = tf.train.Coordinator()\n",
    "\n",
    "threads = [threading.Thread(target=worker, args=(coord,),name=str(i)) for i in range(3)]\n",
    "\n",
    "for t in threads:\n",
    "    t.start()\n",
    "    \n",
    "coord.join(threads)\n"
   ]
  },
  {
   "cell_type": "markdown",
   "metadata": {},
   "source": [
    "## Queue"
   ]
  },
  {
   "cell_type": "markdown",
   "metadata": {},
   "source": [
    "### RandomShuffleQueue"
   ]
  },
  {
   "cell_type": "markdown",
   "metadata": {},
   "source": [
    "A queue is a TensorFlow data structure that stores tensors across multiple steps, and expose operations that enqueue and dequeue tensors."
   ]
  },
  {
   "cell_type": "markdown",
   "metadata": {},
   "source": [
    "classic usage of Queue is: \n",
    "\n",
    "* Multiple threads prepare training examples and enqueue them.\n",
    "* A training thread executes a training op that dequeues mini-batches from the queue"
   ]
  },
  {
   "cell_type": "markdown",
   "metadata": {},
   "source": [
    "## QueueRunner"
   ]
  },
  {
   "cell_type": "markdown",
   "metadata": {},
   "source": [
    "The `QueueRunner` class creates a number of threads that repeatly run an `enqueue` op. These threads can use a coordinator to stop together. In addition a queue runner runs a closer thread that automatically closes the queue if an exception is reported to the coordinator."
   ]
  },
  {
   "cell_type": "markdown",
   "metadata": {},
   "source": [
    "## Put it together"
   ]
  },
  {
   "cell_type": "code",
   "execution_count": 8,
   "metadata": {
    "collapsed": true
   },
   "outputs": [],
   "source": [
    "def simple_shuffle_batch(source, capacity, batch_size=10):\n",
    "    queue = tf.RandomShuffleQueue(capacity=capacity, min_after_dequeue=int(0.9*capacity),\n",
    "                                 shapes=source.shape, dtypes=source.dtype)\n",
    "    enqueue = queue.enqueue(source)\n",
    "    num_threads = 4\n",
    "    qr = tf.train.QueueRunner(queue,[enqueue]*num_threads)\n",
    "    \n",
    "    tf.train.add_queue_runner(qr)\n",
    "    return queue.dequeue_many(%%bashtch_size)"
   ]
  },
  {
   "cell_type": "markdown",
   "metadata": {},
   "source": [
    "The `simple_shuffle_batch` use a `QueueRunner` to execute the `enqueue` ops. but the queue runner don't start yet. Now we need start the queue runner and start a main thread to dequeue elements from queue."
   ]
  },
  {
   "cell_type": "code",
   "execution_count": 13,
   "metadata": {},
   "outputs": [
    {
     "name": "stdout",
     "output_type": "stream",
     "text": [
      "[ 6 13  2 21 23  7  5 18 19 20]\n",
      "[ 8 24 31  4 25 26  3 17 27 22]\n",
      "[40  9 14 38 15 37  1 41 44 39]\n",
      "[43 28 50 12 49 32 47 45 42 56]\n",
      "[53 54 34 58 52 33 10 63 35 64]\n",
      "[57 29 51 72 36 16 71 70 67 78]\n",
      "[59 62 30 80 69 55 73 82 77 87]\n",
      "[88 84 79 65 90 61 11 60 92 96]\n",
      "[85 83 86 68 66 99 97 93 75 76]\n",
      "queue is empty\n"
     ]
    }
   ],
   "source": [
    "input = tf.constant(list(range(1, 100)))\n",
    "input = tf.data.Dataset.from_tensor_slices(input)\n",
    "input = input.make_one_shot_iterator().get_next()\n",
    "\n",
    "get_batch = simple_shuffle_batch(input, capacity=20)\n",
    "\n",
    "# start queue runner directly\n",
    "\n",
    "\n",
    "sess = tf.Session()\n",
    "\n",
    "with sess.as_default() as sess:\n",
    "    tf.train.start_queue_runners()\n",
    "    while True:\n",
    "        try:\n",
    "            print(sess.run(get_batch))\n",
    "        except tf.errors.OutOfRangeError:\n",
    "            print(\"queue is empty\")\n",
    "            break"
   ]
  },
  {
   "cell_type": "markdown",
   "metadata": {},
   "source": [
    "Or, we can start queue runners indirectly with `tf.train.MonitorSession`"
   ]
  },
  {
   "cell_type": "code",
   "execution_count": 14,
   "metadata": {},
   "outputs": [
    {
     "name": "stdout",
     "output_type": "stream",
     "text": [
      "[15  9  5  4  2 19 10 24 25  3]\n",
      "[28 14  7 12 30 11 22 36 34 26]\n",
      "[40 20 18 35 44 43 41  8  6 17]\n",
      "[32 37 27 49 47 29 55 23 31 52]\n",
      "[61 60 53 59 56 33 50 51 21 64]\n",
      "[13 16 38 67 46 68 54 74  1 45]\n",
      "[75 48 62 82 84 58 39 79 83 65]\n",
      "[89 87 90 63 76 91 95 73 86 77]\n",
      "[92 78 93 99 71 69 98 66 57 70]\n"
     ]
    }
   ],
   "source": [
    "input = tf.constant(list(range(1, 100)))\n",
    "input = tf.data.Dataset.from_tensor_slices(input)\n",
    "input = input.make_one_shot_iterator().get_next()\n",
    "\n",
    "get_batch = simple_shuffle_batch(input, capacity=20)\n",
    "\n",
    "# start queue runner directly\n",
    "\n",
    "\n",
    "with tf.train.MonitoredSession() as sess:\n",
    "    while not sess.should_stop():\n",
    "        print(sess.run(get_batch))"
   ]
  },
  {
   "cell_type": "code",
   "execution_count": null,
   "metadata": {
    "collapsed": true
   },
   "outputs": [],
   "source": []
  },
  {
   "cell_type": "markdown",
   "metadata": {},
   "source": [
    "## To-Do list"
   ]
  },
  {
   "cell_type": "markdown",
   "metadata": {},
   "source": [
    "`tf.train.shuffle_batch`."
   ]
  },
  {
   "cell_type": "code",
   "execution_count": null,
   "metadata": {
    "collapsed": true
   },
   "outputs": [],
   "source": []
  }
 ],
 "metadata": {
  "kernelspec": {
   "display_name": "Python [conda env:tfgpu]",
   "language": "python",
   "name": "conda-env-tfgpu-py"
  },
  "language_info": {
   "codemirror_mode": {
    "name": "ipython",
    "version": 3
   },
   "file_extension": ".py",
   "mimetype": "text/x-python",
   "name": "python",
   "nbconvert_exporter": "python",
   "pygments_lexer": "ipython3",
   "version": "3.5.4"
  }
 },
 "nbformat": 4,
 "nbformat_minor": 2
}
