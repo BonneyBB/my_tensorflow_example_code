{
 "cells": [
  {
   "cell_type": "markdown",
   "metadata": {},
   "source": [
    "this notebook have a complete and very detailed example: slim_walkthrough\n",
    "\n",
    "this is copied from tensorflow/models/research/slim. but this repo is not stable, so I copy to here for back\n"
   ]
  },
  {
   "cell_type": "markdown",
   "metadata": {},
   "source": [
    "The most important thing is that: `slim.dataset_data_provider.DatasetDataProvider` is similiar to queue runner (in fact it use QueueRunner, but wrap it up), so in order to make thing running. we need start the queue runner. if you don't use `lim.learning.train` to train the model. you will need start queue runner yourself. with methods like: `tf.train.MonitoredSession` or `tf.train.start_queue_runners`,"
   ]
  },
  {
   "cell_type": "markdown",
   "metadata": {},
   "source": [
    "slim also provide a convinient way of start queue runners"
   ]
  },
  {
   "cell_type": "code",
   "execution_count": null,
   "metadata": {},
   "outputs": [],
   "source": [
    "# context manager \n",
    "\n",
    "with tf.Graph().as_default(): \n",
    "    dataset = flowers.get_split('train', flowers_data_dir)\n",
    "    data_provider = slim.dataset_data_provider.DatasetDataProvider(\n",
    "        dataset, common_queue_capacity=32, common_queue_min=1)\n",
    "    image, label = data_provider.get(['image', 'label'])\n",
    "    \n",
    "    with tf.Session() as sess:    \n",
    "        with slim.queues.QueueRunners(sess):\n",
    "            pass\n"
   ]
  },
  {
   "cell_type": "markdown",
   "metadata": {},
   "source": [
    "here are implmentation of slim.queues.QueueRunners in tf1.4.\n",
    "Basically, all it does is use Coordinator to start the queue runner"
   ]
  },
  {
   "cell_type": "code",
   "execution_count": 9,
   "metadata": {},
   "outputs": [],
   "source": [
    "from contextlib import contextmanager\n",
    "\n",
    "@contextmanager\n",
    "def QueueRunners(session):\n",
    "  \"\"\"Creates a context manager that handles starting and stopping queue runners.\n",
    "\n",
    "  Args:\n",
    "    session: the currently running session.\n",
    "\n",
    "  Yields:\n",
    "    a context in which queues are run.\n",
    "\n",
    "  Raises:\n",
    "    NestedQueueRunnerError: if a QueueRunners context is nested within another.\n",
    "  \"\"\"\n",
    "  if not _queue_runner_lock.acquire(False):\n",
    "    raise NestedQueueRunnerError('QueueRunners cannot be nested')\n",
    "\n",
    "  coord = coordinator.Coordinator()\n",
    "  threads = []\n",
    "  for qr in ops.get_collection(ops.GraphKeys.QUEUE_RUNNERS):\n",
    "    threads.extend(\n",
    "        qr.create_threads(\n",
    "            session, coord=coord, daemon=True, start=True))\n",
    "  try:\n",
    "    yield\n",
    "  finally:\n",
    "    coord.request_stop()\n",
    "    coord.join(threads, stop_grace_period_secs=120)\n",
    "\n",
    "    _queue_runner_lock.release()"
   ]
  },
  {
   "cell_type": "code",
   "execution_count": null,
   "metadata": {
    "collapsed": true
   },
   "outputs": [],
   "source": []
  }
 ],
 "metadata": {
  "kernelspec": {
   "display_name": "Python [default]",
   "language": "python",
   "name": "python3"
  },
  "language_info": {
   "codemirror_mode": {
    "name": "ipython",
    "version": 3
   },
   "file_extension": ".py",
   "mimetype": "text/x-python",
   "name": "python",
   "nbconvert_exporter": "python",
   "pygments_lexer": "ipython3",
   "version": "3.5.4"
  }
 },
 "nbformat": 4,
 "nbformat_minor": 2
}
