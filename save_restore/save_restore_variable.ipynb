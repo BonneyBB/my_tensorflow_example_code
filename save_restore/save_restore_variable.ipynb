{
 "cells": [
  {
   "cell_type": "markdown",
   "metadata": {},
   "source": [
    "# Saving and Restoring Variables"
   ]
  },
  {
   "cell_type": "markdown",
   "metadata": {},
   "source": [
    "## Saving"
   ]
  },
  {
   "cell_type": "code",
   "execution_count": 1,
   "metadata": {},
   "outputs": [
    {
     "name": "stdout",
     "output_type": "stream",
     "text": [
      "v1: [ 1.  1.  1.]\n",
      "v2: [-1. -1. -1. -1. -1.]\n",
      "Model saved in file: /tmp/model.ckpt\n"
     ]
    }
   ],
   "source": [
    "import tensorflow as tf\n",
    "\n",
    "\n",
    "graph_save = tf.Graph()\n",
    "with graph_save.as_default() as graph:\n",
    "    # Create some variables.\n",
    "    v1 = tf.get_variable(\"v1\", shape=[3], initializer = tf.zeros_initializer)\n",
    "    v2 = tf.get_variable(\"v2\", shape=[5], initializer = tf.zeros_initializer)\n",
    "\n",
    "    inc_v1 = v1.assign(v1+1)\n",
    "    dec_v2 = v2.assign(v2-1)\n",
    "\n",
    "    # Add an op to initialize the variables.\n",
    "    init_op = tf.global_variables_initializer()\n",
    "\n",
    "    # Add ops to save and restore all the variables.\n",
    "    saver = tf.train.Saver()\n",
    "# Later, launch the model, initialize the variables, do some work, and save the\n",
    "# variables to disk.\n",
    "with tf.Session(graph=graph_save) as sess:\n",
    "  sess.run(init_op)\n",
    "  # Do some work with the model.\n",
    "  inc_v1.op.run()\n",
    "  dec_v2.op.run()\n",
    "  # Save the variables to disk.\n",
    "  save_path = saver.save(sess, \"/tmp/model.ckpt\")\n",
    "  print(\"v1: %s\" % v1.eval())\n",
    "  print(\"v2: %s\" % v2.eval())\n",
    "  print(\"Model saved in file: %s\" % save_path)"
   ]
  },
  {
   "cell_type": "markdown",
   "metadata": {},
   "source": [
    "Here are the file created by saver:"
   ]
  },
  {
   "cell_type": "code",
   "execution_count": 20,
   "metadata": {},
   "outputs": [
    {
     "name": "stdout",
     "output_type": "stream",
     "text": [
      "-rw-rw-r-- 1 scott scott   32 Nov 20 14:52 /tmp/model.ckpt.data-00000-of-00001\r\n",
      "-rw-rw-r-- 1 scott scott  143 Nov 20 14:52 /tmp/model.ckpt.index\r\n",
      "-rw-rw-r-- 1 scott scott 4242 Nov 20 14:52 /tmp/model.ckpt.meta\r\n"
     ]
    }
   ],
   "source": [
    "!ls  -l /tmp/model.ckpt*"
   ]
  },
  {
   "cell_type": "markdown",
   "metadata": {},
   "source": [
    "## Restoring\n",
    "\n",
    "we can also use `tf.train.Saver` to restore variable from checkpoint files"
   ]
  },
  {
   "cell_type": "code",
   "execution_count": 2,
   "metadata": {},
   "outputs": [
    {
     "name": "stdout",
     "output_type": "stream",
     "text": [
      "INFO:tensorflow:Restoring parameters from /tmp/model.ckpt\n",
      "Model restored\n",
      "v1: [ 1.  1.  1.]\n",
      "v2: [-1. -1. -1. -1. -1.]\n"
     ]
    }
   ],
   "source": [
    "graph_restore = tf.Graph()\n",
    "with graph_restore.as_default() as graph:\n",
    "    # Create some variables.\n",
    "    v1 = tf.get_variable(\"v1\", shape=[3])\n",
    "    v2 = tf.get_variable(\"v2\", shape=[5])\n",
    "\n",
    "    # Add ops to save and restore all the variables.\n",
    "    saver = tf.train.Saver()\n",
    "\n",
    "with tf.Session(graph=graph_restore) as sess:\n",
    "    saver.restore(sess, \"/tmp/model.ckpt\")\n",
    "    print(\"Model restored\")\n",
    "    #check the value\n",
    "    print(\"v1: %s\" % v1.eval())\n",
    "    print(\"v2: %s\" % v2.eval())"
   ]
  },
  {
   "cell_type": "markdown",
   "metadata": {},
   "source": [
    "you can see that the value of v1 and v2 is the same as we saved."
   ]
  },
  {
   "cell_type": "markdown",
   "metadata": {},
   "source": [
    "## Chossing which variables to save and restore"
   ]
  },
  {
   "cell_type": "markdown",
   "metadata": {},
   "source": [
    "if you do not pass any arguments to tf.train.Saver, the saver handles all variables in the graph. Each variable is saved under the name that was passed when the variable was created."
   ]
  },
  {
   "cell_type": "markdown",
   "metadata": {},
   "source": [
    "It is sometimes useful to explicitly specify names for variables in the checkpoint files. For example, you may have trained a model with a variable named \"weights\" whose value you want to restore into a variable named \"params\"."
   ]
  },
  {
   "cell_type": "markdown",
   "metadata": {},
   "source": [
    "It is also sometimes useful to only save or restore a subset of the variables used by a model. For example, you may have trained a neural net with five layers, and you now want to train a new model with six layers that reuses the existing weights of the five trained layers. You can use the saver to restore the weights of just the first five layers"
   ]
  },
  {
   "cell_type": "markdown",
   "metadata": {},
   "source": [
    "You can easily specify the names and variables to save or load by passing to the tf.train.Saver() constructor either of the following:\n",
    "\n",
    "* A list of variables (which will be stored under their own names).\n",
    "* A Python dictionary in which keys are the names to use and the values are the variables to manage.\n"
   ]
  },
  {
   "cell_type": "code",
   "execution_count": 8,
   "metadata": {},
   "outputs": [
    {
     "name": "stdout",
     "output_type": "stream",
     "text": [
      "INFO:tensorflow:Restoring parameters from /tmp/model.ckpt\n"
     ]
    },
    {
     "name": "stderr",
     "output_type": "stream",
     "text": [
      "INFO:tensorflow:Restoring parameters from /tmp/model.ckpt\n"
     ]
    },
    {
     "name": "stdout",
     "output_type": "stream",
     "text": [
      "v1 : [ 0.  0.  0.]\n",
      "v2 : [-1. -1. -1. -1. -1.]\n"
     ]
    }
   ],
   "source": [
    "graph_partial_save = tf.Graph()\n",
    "with graph_partial_save.as_default() as graph:\n",
    "    # Create some variables.\n",
    "    v1 = tf.get_variable(\"v1\", [3], initializer = tf.zeros_initializer)\n",
    "    v2 = tf.get_variable(\"v2\", [5], initializer = tf.zeros_initializer)\n",
    "\n",
    "    # Add ops to save and restore only `v2` using the name \"v2\"\n",
    "    saver = tf.train.Saver({\"v2\": v2})\n",
    "    \n",
    "with tf.Session(graph=graph_partial_save) as sess:\n",
    "    # Initialize v1 since the saver will not.\n",
    "    v1.initializer.run()\n",
    "    saver.restore(sess, \"/tmp/model.ckpt\")\n",
    "    print(\"v1 : %s\" % v1.eval())\n",
    "    print(\"v2 : %s\" % v2.eval())"
   ]
  },
  {
   "cell_type": "markdown",
   "metadata": {},
   "source": [
    "## inspect checkpoint"
   ]
  },
  {
   "cell_type": "markdown",
   "metadata": {},
   "source": [
    "To inspect the variables in a checkpoint, you can use the `inspect_checkpint` library. Particulaly the `print_tensors_in_checkpoint_file` function. "
   ]
  },
  {
   "cell_type": "code",
   "execution_count": 9,
   "metadata": {},
   "outputs": [],
   "source": [
    "from tensorflow.python.tools import inspect_checkpoint"
   ]
  },
  {
   "cell_type": "code",
   "execution_count": 18,
   "metadata": {},
   "outputs": [
    {
     "name": "stdout",
     "output_type": "stream",
     "text": [
      "tensor_name:  v1\n",
      "[ 1.  1.  1.]\n",
      "tensor_name:  v2\n",
      "[-1. -1. -1. -1. -1.]\n"
     ]
    }
   ],
   "source": [
    "inspect_checkpoint.print_tensors_in_checkpoint_file(\"/tmp/model.ckpt\", tensor_name=\"\", all_tensors=True)"
   ]
  },
  {
   "cell_type": "code",
   "execution_count": 33,
   "metadata": {},
   "outputs": [
    {
     "data": {
      "text/plain": [
       "<tf.Tensor 'x:0' shape=(?, 784) dtype=float32>"
      ]
     },
     "execution_count": 33,
     "metadata": {},
     "output_type": "execute_result"
    }
   ],
   "source": []
  },
  {
   "cell_type": "code",
   "execution_count": null,
   "metadata": {},
   "outputs": [],
   "source": []
  }
 ],
 "metadata": {
  "kernelspec": {
   "display_name": "tf14",
   "language": "python",
   "name": "tf14"
  },
  "language_info": {
   "codemirror_mode": {
    "name": "ipython",
    "version": 3
   },
   "file_extension": ".py",
   "mimetype": "text/x-python",
   "name": "python",
   "nbconvert_exporter": "python",
   "pygments_lexer": "ipython3",
   "version": "3.5.2"
  }
 },
 "nbformat": 4,
 "nbformat_minor": 2
}
