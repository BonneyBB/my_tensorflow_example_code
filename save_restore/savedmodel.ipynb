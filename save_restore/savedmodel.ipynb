{
 "cells": [
  {
   "cell_type": "markdown",
   "metadata": {},
   "source": [
    "# Overview of saving and restoring models"
   ]
  },
  {
   "cell_type": "markdown",
   "metadata": {},
   "source": [
    "When you want to save and load variables, the graph, and the graph's metadata--basically, when you want to save or restore your model--we recommend using SavedModel. SavedModel is a language-neutral, recoverable, hermetic serialization format. SavedModel enables higher-level systems and tools to produce, consume, and transform TensorFlow models. TensorFlow provides several mechanisms for interacting with SavedModel, including tf.saved_model APIs, Estimator APIs and a CLI.\n",
    "\n"
   ]
  },
  {
   "cell_type": "markdown",
   "metadata": {},
   "source": [
    "## APIs to build and load a SavedModel"
   ]
  },
  {
   "cell_type": "markdown",
   "metadata": {},
   "source": [
    "The SavedModelBuilder class provides functionality to save multiple MetaGraphDefs. \n",
    "* A MetaGraph is a dataflow graph, plus its associated variables, assets, and signatures. \n",
    "\n",
    "* A MetaGraphDef is the protocol buffer representation of a MetaGraph. \n",
    "\n",
    "* A signature is the set of inputs to and outputs from a graph.\n",
    "\n"
   ]
  },
  {
   "cell_type": "code",
   "execution_count": 7,
   "metadata": {},
   "outputs": [],
   "source": [
    "import tensorflow as tf"
   ]
  },
  {
   "cell_type": "markdown",
   "metadata": {},
   "source": [
    "### Example\n",
    "\n",
    "[link](https://www.tensorflow.org/serving/serving_basic)"
   ]
  },
  {
   "cell_type": "code",
   "execution_count": 22,
   "metadata": {},
   "outputs": [
    {
     "name": "stdout",
     "output_type": "stream",
     "text": [
      "Training model...\r\n",
      "Extracting /tmp/train-images-idx3-ubyte.gz\r\n",
      "Extracting /tmp/train-labels-idx1-ubyte.gz\r\n",
      "Extracting /tmp/t10k-images-idx3-ubyte.gz\r\n",
      "Extracting /tmp/t10k-labels-idx1-ubyte.gz\r\n",
      "2017-11-20 17:07:04.629290: I tensorflow/core/platform/cpu_feature_guard.cc:137] Your CPU supports instructions that this TensorFlow binary was not compiled to use: SSE4.1 SSE4.2 AVX AVX2 FMA\r\n",
      "training accuracy 0.6509\r\n",
      "Done training!\r\n",
      "Exporting trained model to b'/tmp/saved_model_example/1'\r\n",
      "Done exporting!\r\n"
     ]
    }
   ],
   "source": [
    "!python mnist_saved_model.py --training_iteration 10 /tmp/saved_model_example"
   ]
  },
  {
   "cell_type": "code",
   "execution_count": 24,
   "metadata": {},
   "outputs": [
    {
     "name": "stdout",
     "output_type": "stream",
     "text": [
      "\u001b[01;34m/tmp/saved_model_example/1\u001b[00m\r\n",
      "├── saved_model.pb\r\n",
      "└── \u001b[01;34mvariables\u001b[00m\r\n",
      "    ├── variables.data-00000-of-00001\r\n",
      "    └── variables.index\r\n",
      "\r\n",
      "1 directory, 3 files\r\n"
     ]
    }
   ],
   "source": [
    "!tree /tmp/saved_model_example/1"
   ]
  },
  {
   "cell_type": "markdown",
   "metadata": {},
   "source": [
    "## CLI to inspect and execute SavedModel"
   ]
  },
  {
   "cell_type": "markdown",
   "metadata": {},
   "source": [
    "Before go on, first introduce a tool for inspecting SavedModel"
   ]
  },
  {
   "cell_type": "markdown",
   "metadata": {},
   "source": [
    "Overview of commands\n",
    "\n",
    "The SavedModel CLI supports the following two commands on a MetaGraphDef in a SavedModel:\n",
    "\n",
    "* show, which shows a computation on a MetaGraphDef in a SavedModel.\n",
    "* run, which runs a computation on a MetaGraphDef.\n",
    "\n",
    "In this tutorial, we focus on `show` command."
   ]
  },
  {
   "cell_type": "markdown",
   "metadata": {},
   "source": [
    "### Show command"
   ]
  },
  {
   "cell_type": "markdown",
   "metadata": {},
   "source": [
    "#### Show MetaGraphDef\n",
    "Because a SavedMode contains one or more `MetaGraphDef`, identified by their tag-sets.\n",
    "We first check `MetaGraphDef`"
   ]
  },
  {
   "cell_type": "code",
   "execution_count": 2,
   "metadata": {},
   "outputs": [
    {
     "name": "stdout",
     "output_type": "stream",
     "text": [
      "The given SavedModel contains the following tag-sets:\r\n",
      "serve\r\n"
     ]
    }
   ],
   "source": [
    "!saved_model_cli show --dir /tmp/saved_model_example/1"
   ]
  },
  {
   "cell_type": "markdown",
   "metadata": {},
   "source": [
    "#### Show SignatureDef\n",
    "Then we check avaible SignatureDef keys in a particular `MetaGraphDef`"
   ]
  },
  {
   "cell_type": "code",
   "execution_count": 3,
   "metadata": {},
   "outputs": [
    {
     "name": "stdout",
     "output_type": "stream",
     "text": [
      "The given SavedModel MetaGraphDef contains SignatureDefs with the following keys:\r\n",
      "SignatureDef key: \"predict_images\"\r\n",
      "SignatureDef key: \"serving_default\"\r\n"
     ]
    }
   ],
   "source": [
    "!saved_model_cli show --dir /tmp/saved_model_example/1 --tag_set serve"
   ]
  },
  {
   "cell_type": "markdown",
   "metadata": {},
   "source": [
    "#### Show TensorInfo\n",
    "To show all inputs and outputs TensorInfo for a specific SignatureDef, pass in the SignatureDef key to signature_def option."
   ]
  },
  {
   "cell_type": "code",
   "execution_count": 4,
   "metadata": {},
   "outputs": [
    {
     "name": "stdout",
     "output_type": "stream",
     "text": [
      "The given SavedModel SignatureDef contains the following input(s):\r\n",
      "inputs['images'] tensor_info:\r\n",
      "    dtype: DT_FLOAT\r\n",
      "    shape: (-1, 784)\r\n",
      "    name: x:0\r\n",
      "The given SavedModel SignatureDef contains the following output(s):\r\n",
      "outputs['scores'] tensor_info:\r\n",
      "    dtype: DT_FLOAT\r\n",
      "    shape: (-1, 10)\r\n",
      "    name: y:0\r\n",
      "Method name is: tensorflow/serving/predict\r\n"
     ]
    }
   ],
   "source": [
    "!saved_model_cli show --dir /tmp/saved_model_example/1 --tag_set serve --signature_def predict_images"
   ]
  },
  {
   "cell_type": "markdown",
   "metadata": {},
   "source": [
    "we can also check all information in a SavedModel"
   ]
  },
  {
   "cell_type": "code",
   "execution_count": 5,
   "metadata": {},
   "outputs": [
    {
     "name": "stdout",
     "output_type": "stream",
     "text": [
      "\r\n",
      "MetaGraphDef with tag-set: 'serve' contains the following SignatureDefs:\r\n",
      "\r\n",
      "signature_def['predict_images']:\r\n",
      "The given SavedModel SignatureDef contains the following input(s):\r\n",
      "inputs['images'] tensor_info:\r\n",
      "    dtype: DT_FLOAT\r\n",
      "    shape: (-1, 784)\r\n",
      "    name: x:0\r\n",
      "The given SavedModel SignatureDef contains the following output(s):\r\n",
      "outputs['scores'] tensor_info:\r\n",
      "    dtype: DT_FLOAT\r\n",
      "    shape: (-1, 10)\r\n",
      "    name: y:0\r\n",
      "Method name is: tensorflow/serving/predict\r\n",
      "\r\n",
      "signature_def['serving_default']:\r\n",
      "The given SavedModel SignatureDef contains the following input(s):\r\n",
      "inputs['inputs'] tensor_info:\r\n",
      "    dtype: DT_STRING\r\n",
      "    shape: unknown_rank\r\n",
      "    name: tf_example:0\r\n",
      "The given SavedModel SignatureDef contains the following output(s):\r\n",
      "outputs['classes'] tensor_info:\r\n",
      "    dtype: DT_STRING\r\n",
      "    shape: (-1, 10)\r\n",
      "    name: index_to_string_Lookup:0\r\n",
      "outputs['scores'] tensor_info:\r\n",
      "    dtype: DT_FLOAT\r\n",
      "    shape: (-1, 10)\r\n",
      "    name: TopKV2:0\r\n",
      "Method name is: tensorflow/serving/classify\r\n"
     ]
    }
   ],
   "source": [
    "!saved_model_cli show --dir /tmp/saved_model_example/1 --all"
   ]
  },
  {
   "cell_type": "markdown",
   "metadata": {},
   "source": [
    "## Restore"
   ]
  },
  {
   "cell_type": "markdown",
   "metadata": {},
   "source": [
    "From last section, we know the tensor name in the saved model. Let restore the graph and check the tensor."
   ]
  },
  {
   "cell_type": "code",
   "execution_count": 9,
   "metadata": {},
   "outputs": [
    {
     "name": "stdout",
     "output_type": "stream",
     "text": [
      "INFO:tensorflow:Restoring parameters from b'/tmp/saved_model_example/1/variables/variables'\n"
     ]
    },
    {
     "name": "stderr",
     "output_type": "stream",
     "text": [
      "INFO:tensorflow:Restoring parameters from b'/tmp/saved_model_example/1/variables/variables'\n"
     ]
    },
    {
     "name": "stdout",
     "output_type": "stream",
     "text": [
      "Tensor(\"x:0\", shape=(?, 784), dtype=float32)\n"
     ]
    }
   ],
   "source": [
    "export_dir = \"/tmp/saved_model_example/1\"\n",
    "\n",
    "graph_restore_saved_model = tf.Graph()\n",
    "with tf.Session(graph=graph_restore_saved_model) as sess:\n",
    "    tf.saved_model.loader.load(sess, [tf.saved_model.tag_constants.SERVING], export_dir)\n",
    "    x = graph_restore_saved_model.get_tensor_by_name(\"x:0\")\n",
    "    print(x)"
   ]
  }
 ],
 "metadata": {
  "kernelspec": {
   "display_name": "tf14",
   "language": "python",
   "name": "tf14"
  },
  "language_info": {
   "codemirror_mode": {
    "name": "ipython",
    "version": 3
   },
   "file_extension": ".py",
   "mimetype": "text/x-python",
   "name": "python",
   "nbconvert_exporter": "python",
   "pygments_lexer": "ipython3",
   "version": "3.5.2"
  }
 },
 "nbformat": 4,
 "nbformat_minor": 2
}
